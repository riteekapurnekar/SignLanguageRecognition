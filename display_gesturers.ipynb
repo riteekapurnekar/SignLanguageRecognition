{
 "cells": [
  {
   "cell_type": "code",
   "execution_count": 1,
   "id": "8b9bab75",
   "metadata": {},
   "outputs": [
    {
     "data": {
      "text/plain": [
       "-1"
      ]
     },
     "execution_count": 1,
     "metadata": {},
     "output_type": "execute_result"
    }
   ],
   "source": [
    "import cv2, os, random\n",
    "import numpy as np\n",
    "\n",
    "def get_image_size():\n",
    "\timg = cv2.imread('gestures/0/100.jpg', 0)\n",
    "\treturn img.shape\n",
    "\n",
    "gestures = os.listdir('gestures/')\n",
    "gestures.sort(key = int)\n",
    "begin_index = 0\n",
    "end_index = 5\n",
    "image_x, image_y = get_image_size()\n",
    "\n",
    "if len(gestures)%5 != 0:\n",
    "\trows = int(len(gestures)/5)+1\n",
    "else:\n",
    "\trows = int(len(gestures)/5)\n",
    "\n",
    "full_img = None\n",
    "for i in range(rows):\n",
    "\tcol_img = None\n",
    "\tfor j in range(begin_index, end_index):\n",
    "\t\timg_path = \"gestures/%s/%d.jpg\" % (j, random.randint(1, 1200))\n",
    "\t\timg = cv2.imread(img_path, 0)\n",
    "\t\tif np.any(img == None):\n",
    "\t\t\timg = np.zeros((image_y, image_x), dtype = np.uint8)\n",
    "\t\tif np.any(col_img == None):\n",
    "\t\t\tcol_img = img\n",
    "\t\telse:\n",
    "\t\t\tcol_img = np.hstack((col_img, img))\n",
    "\n",
    "\tbegin_index += 5\n",
    "\tend_index += 5\n",
    "\tif np.any(full_img == None):\n",
    "\t\tfull_img = col_img\n",
    "\telse:\n",
    "\t\tfull_img = np.vstack((full_img, col_img))\n",
    "\n",
    "\n",
    "cv2.imshow(\"gestures\", full_img)\n",
    "cv2.imwrite('full_img.jpg', full_img)\n",
    "cv2.waitKey(0)\n"
   ]
  },
  {
   "cell_type": "code",
   "execution_count": null,
   "id": "5011e88d",
   "metadata": {},
   "outputs": [],
   "source": []
  },
  {
   "cell_type": "code",
   "execution_count": null,
   "id": "4d04879b",
   "metadata": {},
   "outputs": [],
   "source": []
  }
 ],
 "metadata": {
  "kernelspec": {
   "display_name": "Python 3 (ipykernel)",
   "language": "python",
   "name": "python3"
  },
  "language_info": {
   "codemirror_mode": {
    "name": "ipython",
    "version": 3
   },
   "file_extension": ".py",
   "mimetype": "text/x-python",
   "name": "python",
   "nbconvert_exporter": "python",
   "pygments_lexer": "ipython3",
   "version": "3.9.7"
  }
 },
 "nbformat": 4,
 "nbformat_minor": 5
}
